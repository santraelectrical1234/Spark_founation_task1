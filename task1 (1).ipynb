{
 "cells": [
  {
   "cell_type": "markdown",
   "id": "cfd1a82d-fbf2-4766-89fe-4128f13ba1fc",
   "metadata": {},
   "source": [
    "# GRIP: The Sparks Foundation"
   ]
  },
  {
   "cell_type": "markdown",
   "id": "6da6ca0e-7f40-4c56-954a-c721ba4219fd",
   "metadata": {},
   "source": [
    "# Data Science and Bisness Analytics Intern"
   ]
  },
  {
   "cell_type": "markdown",
   "id": "2738345f-c9fd-4da7-90fa-e817f411d0bb",
   "metadata": {},
   "source": [
    "# Author-Dipankar Santra"
   ]
  },
  {
   "cell_type": "markdown",
   "id": "bb58b58a-d1c7-45ba-be7c-3a7e0c6e4454",
   "metadata": {},
   "source": [
    "#  Task -1:Prediction using Supervised ML"
   ]
  },
  {
   "cell_type": "raw",
   "id": "fce087d2-e00f-4417-aff4-773f3db296a5",
   "metadata": {},
   "source": [
    "In this task we have to predicts the persentage score of the students based on the number of study hours.The task has two variable where the features is the no of hours studies and the target values is score.this can be solved using simple lenier Regression Models."
   ]
  },
  {
   "cell_type": "markdown",
   "id": "a3831d20-c09d-42ac-ad2d-24a8de2153d3",
   "metadata": {},
   "source": [
    "# steps"
   ]
  },
  {
   "cell_type": "markdown",
   "id": "d3b00b9a-08e6-408a-9963-e143105805e9",
   "metadata": {},
   "source": [
    "Steps1-Importing the dataset.\n",
    "Steps2-visualizing dataset.\n",
    "Steps3-Data prepration.\n",
    "Steps4-Train the algorithum.\n",
    "Steps5-visualizing the model.\n",
    "Steps6-Making prediction.\n",
    "Steps7-Evaluction the model."
   ]
  },
  {
   "cell_type": "markdown",
   "id": "b45427d0-b141-480d-8967-ef7477729713",
   "metadata": {},
   "source": [
    "# Steps1-Importing the dataset."
   ]
  },
  {
   "cell_type": "code",
   "execution_count": 1,
   "id": "e2705727-8cef-4b08-b27f-c0cfea142968",
   "metadata": {},
   "outputs": [],
   "source": [
    "import pandas as pd\n",
    "import imblearn as imb\n",
    "import numpy as np\n",
    "import seaborn as sns\n",
    "import matplotlib.pyplot as plt"
   ]
  },
  {
   "cell_type": "code",
   "execution_count": 2,
   "id": "27f756fb-cb6d-4063-b5b1-3438f2d9ad37",
   "metadata": {},
   "outputs": [],
   "source": [
    "url = \"http://bit.ly/w-data\""
   ]
  },
  {
   "cell_type": "code",
   "execution_count": 3,
   "id": "03ef41ae-09d1-4f00-8a99-c1f953b6ff04",
   "metadata": {},
   "outputs": [
    {
     "data": {
      "text/html": [
       "<div>\n",
       "<style scoped>\n",
       "    .dataframe tbody tr th:only-of-type {\n",
       "        vertical-align: middle;\n",
       "    }\n",
       "\n",
       "    .dataframe tbody tr th {\n",
       "        vertical-align: top;\n",
       "    }\n",
       "\n",
       "    .dataframe thead th {\n",
       "        text-align: right;\n",
       "    }\n",
       "</style>\n",
       "<table border=\"1\" class=\"dataframe\">\n",
       "  <thead>\n",
       "    <tr style=\"text-align: right;\">\n",
       "      <th></th>\n",
       "      <th>Hours</th>\n",
       "      <th>Scores</th>\n",
       "    </tr>\n",
       "  </thead>\n",
       "  <tbody>\n",
       "    <tr>\n",
       "      <th>0</th>\n",
       "      <td>2.5</td>\n",
       "      <td>21</td>\n",
       "    </tr>\n",
       "    <tr>\n",
       "      <th>1</th>\n",
       "      <td>5.1</td>\n",
       "      <td>47</td>\n",
       "    </tr>\n",
       "    <tr>\n",
       "      <th>2</th>\n",
       "      <td>3.2</td>\n",
       "      <td>27</td>\n",
       "    </tr>\n",
       "    <tr>\n",
       "      <th>3</th>\n",
       "      <td>8.5</td>\n",
       "      <td>75</td>\n",
       "    </tr>\n",
       "    <tr>\n",
       "      <th>4</th>\n",
       "      <td>3.5</td>\n",
       "      <td>30</td>\n",
       "    </tr>\n",
       "  </tbody>\n",
       "</table>\n",
       "</div>"
      ],
      "text/plain": [
       "   Hours  Scores\n",
       "0    2.5      21\n",
       "1    5.1      47\n",
       "2    3.2      27\n",
       "3    8.5      75\n",
       "4    3.5      30"
      ]
     },
     "execution_count": 3,
     "metadata": {},
     "output_type": "execute_result"
    }
   ],
   "source": [
    "df = pd.read_csv(url)\n",
    "df.head()"
   ]
  },
  {
   "cell_type": "code",
   "execution_count": 65,
   "id": "d44d5bd7-2b83-44e1-b547-01dded1e88b9",
   "metadata": {},
   "outputs": [
    {
     "data": {
      "text/html": [
       "<div>\n",
       "<style scoped>\n",
       "    .dataframe tbody tr th:only-of-type {\n",
       "        vertical-align: middle;\n",
       "    }\n",
       "\n",
       "    .dataframe tbody tr th {\n",
       "        vertical-align: top;\n",
       "    }\n",
       "\n",
       "    .dataframe thead th {\n",
       "        text-align: right;\n",
       "    }\n",
       "</style>\n",
       "<table border=\"1\" class=\"dataframe\">\n",
       "  <thead>\n",
       "    <tr style=\"text-align: right;\">\n",
       "      <th></th>\n",
       "      <th>Hours</th>\n",
       "      <th>Scores</th>\n",
       "    </tr>\n",
       "  </thead>\n",
       "  <tbody>\n",
       "    <tr>\n",
       "      <th>20</th>\n",
       "      <td>2.7</td>\n",
       "      <td>30</td>\n",
       "    </tr>\n",
       "    <tr>\n",
       "      <th>21</th>\n",
       "      <td>4.8</td>\n",
       "      <td>54</td>\n",
       "    </tr>\n",
       "    <tr>\n",
       "      <th>22</th>\n",
       "      <td>3.8</td>\n",
       "      <td>35</td>\n",
       "    </tr>\n",
       "    <tr>\n",
       "      <th>23</th>\n",
       "      <td>6.9</td>\n",
       "      <td>76</td>\n",
       "    </tr>\n",
       "    <tr>\n",
       "      <th>24</th>\n",
       "      <td>7.8</td>\n",
       "      <td>86</td>\n",
       "    </tr>\n",
       "  </tbody>\n",
       "</table>\n",
       "</div>"
      ],
      "text/plain": [
       "    Hours  Scores\n",
       "20    2.7      30\n",
       "21    4.8      54\n",
       "22    3.8      35\n",
       "23    6.9      76\n",
       "24    7.8      86"
      ]
     },
     "execution_count": 65,
     "metadata": {},
     "output_type": "execute_result"
    }
   ],
   "source": [
    "df.tail()"
   ]
  },
  {
   "cell_type": "code",
   "execution_count": 66,
   "id": "34de3074-a456-40de-819d-55d9f5aa085e",
   "metadata": {},
   "outputs": [
    {
     "name": "stdout",
     "output_type": "stream",
     "text": [
      "<class 'pandas.core.frame.DataFrame'>\n",
      "RangeIndex: 25 entries, 0 to 24\n",
      "Data columns (total 2 columns):\n",
      " #   Column  Non-Null Count  Dtype  \n",
      "---  ------  --------------  -----  \n",
      " 0   Hours   25 non-null     float64\n",
      " 1   Scores  25 non-null     int64  \n",
      "dtypes: float64(1), int64(1)\n",
      "memory usage: 528.0 bytes\n"
     ]
    }
   ],
   "source": [
    "df.info()"
   ]
  },
  {
   "cell_type": "code",
   "execution_count": 67,
   "id": "76a20414-a648-4a08-a5ab-4003712ae0e6",
   "metadata": {},
   "outputs": [
    {
     "data": {
      "text/plain": [
       "(25, 2)"
      ]
     },
     "execution_count": 67,
     "metadata": {},
     "output_type": "execute_result"
    }
   ],
   "source": [
    "df.shape"
   ]
  },
  {
   "cell_type": "code",
   "execution_count": 68,
   "id": "2f59c183-5810-4fdb-a467-41b0783fd14e",
   "metadata": {},
   "outputs": [
    {
     "data": {
      "text/html": [
       "<div>\n",
       "<style scoped>\n",
       "    .dataframe tbody tr th:only-of-type {\n",
       "        vertical-align: middle;\n",
       "    }\n",
       "\n",
       "    .dataframe tbody tr th {\n",
       "        vertical-align: top;\n",
       "    }\n",
       "\n",
       "    .dataframe thead th {\n",
       "        text-align: right;\n",
       "    }\n",
       "</style>\n",
       "<table border=\"1\" class=\"dataframe\">\n",
       "  <thead>\n",
       "    <tr style=\"text-align: right;\">\n",
       "      <th></th>\n",
       "      <th>Hours</th>\n",
       "      <th>Scores</th>\n",
       "    </tr>\n",
       "  </thead>\n",
       "  <tbody>\n",
       "    <tr>\n",
       "      <th>count</th>\n",
       "      <td>25.000000</td>\n",
       "      <td>25.000000</td>\n",
       "    </tr>\n",
       "    <tr>\n",
       "      <th>mean</th>\n",
       "      <td>5.012000</td>\n",
       "      <td>51.480000</td>\n",
       "    </tr>\n",
       "    <tr>\n",
       "      <th>std</th>\n",
       "      <td>2.525094</td>\n",
       "      <td>25.286887</td>\n",
       "    </tr>\n",
       "    <tr>\n",
       "      <th>min</th>\n",
       "      <td>1.100000</td>\n",
       "      <td>17.000000</td>\n",
       "    </tr>\n",
       "    <tr>\n",
       "      <th>25%</th>\n",
       "      <td>2.700000</td>\n",
       "      <td>30.000000</td>\n",
       "    </tr>\n",
       "    <tr>\n",
       "      <th>50%</th>\n",
       "      <td>4.800000</td>\n",
       "      <td>47.000000</td>\n",
       "    </tr>\n",
       "    <tr>\n",
       "      <th>75%</th>\n",
       "      <td>7.400000</td>\n",
       "      <td>75.000000</td>\n",
       "    </tr>\n",
       "    <tr>\n",
       "      <th>max</th>\n",
       "      <td>9.200000</td>\n",
       "      <td>95.000000</td>\n",
       "    </tr>\n",
       "  </tbody>\n",
       "</table>\n",
       "</div>"
      ],
      "text/plain": [
       "           Hours     Scores\n",
       "count  25.000000  25.000000\n",
       "mean    5.012000  51.480000\n",
       "std     2.525094  25.286887\n",
       "min     1.100000  17.000000\n",
       "25%     2.700000  30.000000\n",
       "50%     4.800000  47.000000\n",
       "75%     7.400000  75.000000\n",
       "max     9.200000  95.000000"
      ]
     },
     "execution_count": 68,
     "metadata": {},
     "output_type": "execute_result"
    }
   ],
   "source": [
    "df.describe()"
   ]
  },
  {
   "cell_type": "code",
   "execution_count": 69,
   "id": "1d0784d9-7315-4269-ae91-7740de0d2ddf",
   "metadata": {},
   "outputs": [
    {
     "data": {
      "text/plain": [
       "Hours     0\n",
       "Scores    0\n",
       "dtype: int64"
      ]
     },
     "execution_count": 69,
     "metadata": {},
     "output_type": "execute_result"
    }
   ],
   "source": [
    "df.isnull().sum() "
   ]
  },
  {
   "cell_type": "markdown",
   "id": "454af2f3-2ab5-41ad-9d26-93ee4975069d",
   "metadata": {},
   "source": [
    "# Steps2-visualizing dataset."
   ]
  },
  {
   "cell_type": "markdown",
   "id": "b4d1fc27-5ac7-489b-aed6-8089c43d04ef",
   "metadata": {},
   "source": [
    "In this data set we have to chake the relaction between two data"
   ]
  },
  {
   "cell_type": "code",
   "execution_count": 70,
   "id": "68cb9292-e9a3-4cea-96d7-336ed5ac2587",
   "metadata": {},
   "outputs": [
    {
     "data": {
      "image/png": "[encoded data removed]",
      "text/plain": [
       "<Figure size 640x480 with 1 Axes>"
      ]
     },
     "metadata": {},
     "output_type": "display_data"
    }
   ],
   "source": [
    "#fig = plt.figure(figsize =(10, 7))\n",
    "data1=df[\"Hours\"]\n",
    "data2=df[\"Scores\"]\n",
    "\n",
    "data=[data1,data2]\n",
    "# Creating plot\n",
    "plt.boxplot(data)\n",
    " \n",
    "# show plot\n",
    "plt.show()"
   ]
  },
  {
   "cell_type": "code",
   "execution_count": 71,
   "id": "2d7e97d3-dbee-42c2-a12b-ccd10e2ff677",
   "metadata": {},
   "outputs": [
    {
     "data": {
      "image/png": "[encoded data removed]",
      "text/plain": [
       "<Figure size 700x500 with 1 Axes>"
      ]
     },
     "metadata": {},
     "output_type": "display_data"
    }
   ],
   "source": [
    "plt.figure(figsize = (7,5))\n",
    "\n",
    "plt.title(\"DISTRIBUTION OF HOURS AND SCORE\")\n",
    "plt.xlabel(\"HOURS\")\n",
    "plt.ylabel(\"SCORE\")\n",
    "\n",
    "#plt.plot(x,y)\n",
    "plt.scatter(df.Hours, df.Scores, color = \"BLUE\", s =50, marker = \".\", alpha =1, label = \"title\" ) # s= size of dots.marker= designed the shape of image. \n",
    "\n",
    "plt.legend() #shown ABC\n",
    "\n",
    "plt.show()"
   ]
  },
  {
   "cell_type": "code",
   "execution_count": 72,
   "id": "320bbd8b-11e3-4c8e-aaec-d743dcf54f3f",
   "metadata": {},
   "outputs": [
    {
     "data": {
      "text/html": [
       "<div>\n",
       "<style scoped>\n",
       "    .dataframe tbody tr th:only-of-type {\n",
       "        vertical-align: middle;\n",
       "    }\n",
       "\n",
       "    .dataframe tbody tr th {\n",
       "        vertical-align: top;\n",
       "    }\n",
       "\n",
       "    .dataframe thead th {\n",
       "        text-align: right;\n",
       "    }\n",
       "</style>\n",
       "<table border=\"1\" class=\"dataframe\">\n",
       "  <thead>\n",
       "    <tr style=\"text-align: right;\">\n",
       "      <th></th>\n",
       "      <th>Hours</th>\n",
       "      <th>Scores</th>\n",
       "    </tr>\n",
       "  </thead>\n",
       "  <tbody>\n",
       "    <tr>\n",
       "      <th>Hours</th>\n",
       "      <td>1.000000</td>\n",
       "      <td>0.884035</td>\n",
       "    </tr>\n",
       "    <tr>\n",
       "      <th>Scores</th>\n",
       "      <td>0.884035</td>\n",
       "      <td>1.000000</td>\n",
       "    </tr>\n",
       "  </tbody>\n",
       "</table>\n",
       "</div>"
      ],
      "text/plain": [
       "           Hours    Scores\n",
       "Hours   1.000000  0.884035\n",
       "Scores  0.884035  1.000000"
      ]
     },
     "execution_count": 72,
     "metadata": {},
     "output_type": "execute_result"
    }
   ],
   "source": [
    "df.corr(method='kendall')"
   ]
  },
  {
   "cell_type": "code",
   "execution_count": 73,
   "id": "920e8f06-5f53-4042-8795-0a2d233e0d87",
   "metadata": {},
   "outputs": [
    {
     "data": {
      "text/html": [
       "<div>\n",
       "<style scoped>\n",
       "    .dataframe tbody tr th:only-of-type {\n",
       "        vertical-align: middle;\n",
       "    }\n",
       "\n",
       "    .dataframe tbody tr th {\n",
       "        vertical-align: top;\n",
       "    }\n",
       "\n",
       "    .dataframe thead th {\n",
       "        text-align: right;\n",
       "    }\n",
       "</style>\n",
       "<table border=\"1\" class=\"dataframe\">\n",
       "  <thead>\n",
       "    <tr style=\"text-align: right;\">\n",
       "      <th></th>\n",
       "      <th>Hours</th>\n",
       "      <th>Scores</th>\n",
       "    </tr>\n",
       "  </thead>\n",
       "  <tbody>\n",
       "    <tr>\n",
       "      <th>Hours</th>\n",
       "      <td>1.000000</td>\n",
       "      <td>0.976191</td>\n",
       "    </tr>\n",
       "    <tr>\n",
       "      <th>Scores</th>\n",
       "      <td>0.976191</td>\n",
       "      <td>1.000000</td>\n",
       "    </tr>\n",
       "  </tbody>\n",
       "</table>\n",
       "</div>"
      ],
      "text/plain": [
       "           Hours    Scores\n",
       "Hours   1.000000  0.976191\n",
       "Scores  0.976191  1.000000"
      ]
     },
     "execution_count": 73,
     "metadata": {},
     "output_type": "execute_result"
    }
   ],
   "source": [
    "df.corr(method ='pearson')"
   ]
  },
  {
   "cell_type": "code",
   "execution_count": 74,
   "id": "60d3e460-fb0b-4ca7-85a0-5984dd02b4f6",
   "metadata": {},
   "outputs": [
    {
     "data": {
      "image/png": "[encoded data removed]",
      "text/plain": [
       "<Figure size 500x300 with 1 Axes>"
      ]
     },
     "metadata": {},
     "output_type": "display_data"
    }
   ],
   "source": [
    "#distribution plot\n",
    "plt.figure(figsize = (5,3))\n",
    "sns.distplot(df.Hours)\n",
    "import warnings\n",
    "warnings.filterwarnings('ignore')"
   ]
  },
  {
   "cell_type": "code",
   "execution_count": 75,
   "id": "a22d97be-dcbf-4fd2-9a57-598688e58a9d",
   "metadata": {},
   "outputs": [
    {
     "data": {
      "image/png": "[encoded data removed]",
      "text/plain": [
       "<Figure size 500x300 with 1 Axes>"
      ]
     },
     "metadata": {},
     "output_type": "display_data"
    }
   ],
   "source": [
    "plt.figure(figsize = (5,3))\n",
    "sns.distplot(df.Scores)\n",
    "import warnings\n",
    "warnings.filterwarnings('ignore')"
   ]
  },
  {
   "cell_type": "markdown",
   "id": "e134272c-afa2-431f-8267-36173345ec6f",
   "metadata": {},
   "source": [
    "# Steps3-Data prepration."
   ]
  },
  {
   "cell_type": "markdown",
   "id": "5748fd4e-0c14-410d-ab3d-2b2b05b13614",
   "metadata": {},
   "source": [
    "# linear regression"
   ]
  },
  {
   "cell_type": "code",
   "execution_count": 76,
   "id": "3d01a25a-c48b-4536-8ae0-9f09c69112ee",
   "metadata": {},
   "outputs": [],
   "source": [
    "# import model related libraries\n",
    "from sklearn.linear_model import LinearRegression  # input function is present we can call it.\n",
    "\n",
    "\n",
    "# preprocessing libraries\n",
    "from sklearn.model_selection import train_test_split    # this methode the number is divived in two type one is\n",
    "                                                        #     80% and 20% explane previously.\n",
    "\n",
    "# import module to calculate model perfomance metrics # Average Error, Root Mean Square Error, MAPE, MAE, Accuracy, precision, recall\n",
    "from sklearn import metrics # help you to evaluate the performance of your models"
   ]
  },
  {
   "cell_type": "code",
   "execution_count": 77,
   "id": "a999d08e-8692-4d77-a899-3d387b655f2e",
   "metadata": {},
   "outputs": [],
   "source": [
    "import warnings\n",
    "warnings.filterwarnings('ignore')"
   ]
  },
  {
   "cell_type": "code",
   "execution_count": 78,
   "id": "6e58ad4e-4feb-4007-841e-78882b128cbd",
   "metadata": {},
   "outputs": [],
   "source": [
    "#Step 2: select independent(X) and dependent variable (y)\n",
    "# create a Python list of feature names\n",
    "input_feature_names = ['Hours']\n",
    "\n",
    "# use the list to select a subset of the original DataFrame\n",
    "X = df[input_feature_names] # assigned to x\n",
    "\n",
    "# sales\n",
    "y = df['Scores'] # assigned to Y"
   ]
  },
  {
   "cell_type": "markdown",
   "id": "24390ef8-45fb-4230-9e8b-072235a3ed2d",
   "metadata": {},
   "source": [
    "# Steps4-Training algorithum."
   ]
  },
  {
   "cell_type": "markdown",
   "id": "be26eff3-1f1f-4343-bd99-e1409ce5db4b",
   "metadata": {},
   "source": [
    "we have to split our data train and testing set, now we are train our model"
   ]
  },
  {
   "cell_type": "code",
   "execution_count": 79,
   "id": "92f6c03f-285a-49f1-bfee-3ee965c4e71a",
   "metadata": {},
   "outputs": [],
   "source": [
    "# Step 3: Splitting X and y into training and testing sets # train_size = 0.7, test_size =0.3\n",
    "X_train, X_test, y_train, y_test = train_test_split(X, y,\n",
    "                                                    random_state = 42, # makes sure, the splits are not random, repeatable\n",
    "                                                    train_size=0.70,\n",
    "                                                    shuffle = True) # Time Series Data"
   ]
  },
  {
   "cell_type": "code",
   "execution_count": 80,
   "id": "be3f4ed7-328a-4568-b99f-a6313a5ba28d",
   "metadata": {},
   "outputs": [
    {
     "data": {
      "text/plain": [
       "LinearRegression()"
      ]
     },
     "execution_count": 80,
     "metadata": {},
     "output_type": "execute_result"
    }
   ],
   "source": [
    "# Linear Regression Model\n",
    "linreg = LinearRegression() # creates an instance of the LinearRegression model,inititlaising an object  (linreg) of the Linear Regression Class\n",
    "# Y = aX + b\n",
    "\n",
    "# The fit() method learns the relationship between the input variables and the\n",
    "#output variable in the training data and updates the internal state of the LinearRegression object.\n",
    "linreg.fit(X_train, y_train) # fit into the linear model\n"
   ]
  },
  {
   "cell_type": "markdown",
   "id": "b52271fc-4ea4-426a-8e42-b27b525003e0",
   "metadata": {},
   "source": [
    "# Steps5-visualizing the model"
   ]
  },
  {
   "cell_type": "code",
   "execution_count": 81,
   "id": "60db7316-ffd1-4661-9acf-367f32f75984",
   "metadata": {},
   "outputs": [
    {
     "data": {
      "text/plain": [
       "array([9.71054094])"
      ]
     },
     "execution_count": 81,
     "metadata": {},
     "output_type": "execute_result"
    }
   ],
   "source": [
    "linreg.coef_ # y=mX+c"
   ]
  },
  {
   "cell_type": "code",
   "execution_count": 82,
   "id": "954f34f2-2d40-4554-b1bd-9ffc6396e118",
   "metadata": {},
   "outputs": [
    {
     "data": {
      "text/plain": [
       "2.794196676599803"
      ]
     },
     "execution_count": 82,
     "metadata": {},
     "output_type": "execute_result"
    }
   ],
   "source": [
    "linreg.intercept_"
   ]
  },
  {
   "cell_type": "code",
   "execution_count": 83,
   "id": "e163ace4-b3ff-4d21-8369-052c15c2427c",
   "metadata": {},
   "outputs": [
    {
     "data": {
      "image/png": "[encoded data removed]",
      "text/plain": [
       "<Figure size 640x480 with 1 Axes>"
      ]
     },
     "metadata": {},
     "output_type": "display_data"
    }
   ],
   "source": [
    "#plt.figure(figsize = (7,5))\n",
    "m=linreg.coef_\n",
    "c=linreg.intercept_\n",
    "Y=m*X+c\n",
    "plt.plot(X,Y)\n",
    "plt.scatter(X,y, color = \"BLUE\", s =50, marker = \".\", alpha =1, label = \"title\" ) # s= size of dots.marker= designed the shape of image. \n",
    "plt.title(\"DISTRIBUTION OF HOURS AND SCORE\")\n",
    "plt.xlabel(\"HOURS\")\n",
    "plt.ylabel(\"SCORE\")\n",
    "plt.legend() #shown ABC\n",
    "\n",
    "plt.show()"
   ]
  },
  {
   "cell_type": "markdown",
   "id": "8fc868a1-712d-404c-ba58-48afdcef7604",
   "metadata": {},
   "source": [
    "# Steps6-Making prediction."
   ]
  },
  {
   "cell_type": "code",
   "execution_count": 85,
   "id": "c49b5a1a-21b0-4cb9-bfa6-3c896e491ba8",
   "metadata": {},
   "outputs": [
    {
     "data": {
      "text/html": [
       "<div>\n",
       "<style scoped>\n",
       "    .dataframe tbody tr th:only-of-type {\n",
       "        vertical-align: middle;\n",
       "    }\n",
       "\n",
       "    .dataframe tbody tr th {\n",
       "        vertical-align: top;\n",
       "    }\n",
       "\n",
       "    .dataframe thead th {\n",
       "        text-align: right;\n",
       "    }\n",
       "</style>\n",
       "<table border=\"1\" class=\"dataframe\">\n",
       "  <thead>\n",
       "    <tr style=\"text-align: right;\">\n",
       "      <th></th>\n",
       "      <th>Actual</th>\n",
       "      <th>Predicted</th>\n",
       "    </tr>\n",
       "  </thead>\n",
       "  <tbody>\n",
       "    <tr>\n",
       "      <th>8</th>\n",
       "      <td>81</td>\n",
       "      <td>83.391686</td>\n",
       "    </tr>\n",
       "    <tr>\n",
       "      <th>16</th>\n",
       "      <td>30</td>\n",
       "      <td>27.070549</td>\n",
       "    </tr>\n",
       "    <tr>\n",
       "      <th>0</th>\n",
       "      <td>21</td>\n",
       "      <td>27.070549</td>\n",
       "    </tr>\n",
       "    <tr>\n",
       "      <th>23</th>\n",
       "      <td>76</td>\n",
       "      <td>69.796929</td>\n",
       "    </tr>\n",
       "    <tr>\n",
       "      <th>11</th>\n",
       "      <td>62</td>\n",
       "      <td>60.086388</td>\n",
       "    </tr>\n",
       "    <tr>\n",
       "      <th>9</th>\n",
       "      <td>25</td>\n",
       "      <td>29.012657</td>\n",
       "    </tr>\n",
       "    <tr>\n",
       "      <th>13</th>\n",
       "      <td>42</td>\n",
       "      <td>34.838982</td>\n",
       "    </tr>\n",
       "    <tr>\n",
       "      <th>1</th>\n",
       "      <td>47</td>\n",
       "      <td>52.317955</td>\n",
       "    </tr>\n",
       "  </tbody>\n",
       "</table>\n",
       "</div>"
      ],
      "text/plain": [
       "    Actual  Predicted\n",
       "8       81  83.391686\n",
       "16      30  27.070549\n",
       "0       21  27.070549\n",
       "23      76  69.796929\n",
       "11      62  60.086388\n",
       "9       25  29.012657\n",
       "13      42  34.838982\n",
       "1       47  52.317955"
      ]
     },
     "execution_count": 85,
     "metadata": {},
     "output_type": "execute_result"
    }
   ],
   "source": [
    "df_predicted=pd.DataFrame()\n",
    "df_predicted['Actual']=y_test\n",
    "df_predicted['Predicted']=y_pred\n",
    "df_predicted"
   ]
  },
  {
   "cell_type": "code",
   "execution_count": 86,
   "id": "a23bf128-a11d-4050-b8f0-ea0f24d71b2e",
   "metadata": {},
   "outputs": [
    {
     "data": {
      "image/png": "[encoded data removed]",
      "text/plain": [
       "<Figure size 640x480 with 1 Axes>"
      ]
     },
     "metadata": {},
     "output_type": "display_data"
    }
   ],
   "source": [
    "%matplotlib inline\n",
    "x=np.arange(1,len(y_test)+1)\n",
    "\n",
    "plt.plot(x,y_test,label='Actual')\n",
    "plt.plot(x,y_pred,label='Predicted')\n",
    "plt.title(\"Actual Vs Predicted (Test set)\")\n",
    "plt.legend(loc=\"best\")\n",
    "plt.grid(True)"
   ]
  },
  {
   "cell_type": "markdown",
   "id": "969cc43b-1803-4878-b1fa-4b540502e95b",
   "metadata": {},
   "source": [
    "# Steps6-Making prediction."
   ]
  },
  {
   "cell_type": "markdown",
   "id": "bc695201-dd61-4fef-b0ab-2d9bf04b6f9d",
   "metadata": {},
   "source": [
    "Whate will be predicting score if a students studies for 9.5 hours/day?"
   ]
  },
  {
   "cell_type": "code",
   "execution_count": 88,
   "id": "83069f47-398f-4dbb-930f-b5031793712c",
   "metadata": {},
   "outputs": [
    {
     "name": "stdout",
     "output_type": "stream",
     "text": [
      "The predicting score a students studies for 9.5 hours/day is 95.04433557250368\n"
     ]
    }
   ],
   "source": [
    "h=9.5\n",
    "own_pred=linreg.predict([[h]])\n",
    "print (\"The predicting score a students studies for 9.5 hours/day is\",own_pred[0])\n"
   ]
  },
  {
   "cell_type": "markdown",
   "id": "482dff44-1379-47fe-a86f-df471a2966c2",
   "metadata": {},
   "source": [
    "# Steps7-Evaluction the model."
   ]
  },
  {
   "cell_type": "code",
   "execution_count": 89,
   "id": "0ccbc1c5-1624-41b2-9fa6-fcab8a744cea",
   "metadata": {},
   "outputs": [
    {
     "data": {
      "text/plain": [
       "4.859985351228103"
      ]
     },
     "execution_count": 89,
     "metadata": {},
     "output_type": "execute_result"
    }
   ],
   "source": [
    "from sklearn import metrics\n",
    "np.sqrt(metrics.mean_squared_error(y_test, y_pred)) # RMSE "
   ]
  },
  {
   "cell_type": "code",
   "execution_count": 90,
   "id": "be9bc5ff-ccb3-4e34-8130-c15f40872ea4",
   "metadata": {},
   "outputs": [
    {
     "name": "stdout",
     "output_type": "stream",
     "text": [
      "Rsquare= 0.9487647340257012\n"
     ]
    }
   ],
   "source": [
    "print(\"Rsquare=\",metrics.r2_score(y_test,y_pred))"
   ]
  },
  {
   "cell_type": "code",
   "execution_count": null,
   "id": "42da4551-e062-4ea7-ac88-7c3cd60528b9",
   "metadata": {},
   "outputs": [],
   "source": []
  },
  {
   "cell_type": "code",
   "execution_count": null,
   "id": "a46a2964-a8cb-4ef7-891c-9c7b2b8c188d",
   "metadata": {},
   "outputs": [],
   "source": []
  }
 ],
 "metadata": {
  "kernelspec": {
   "display_name": "Python 3 (ipykernel)",
   "language": "python",
   "name": "python3"
  },
  "language_info": {
   "codemirror_mode": {
    "name": "ipython",
    "version": 3
   },
   "file_extension": ".py",
   "mimetype": "text/x-python",
   "name": "python",
   "nbconvert_exporter": "python",
   "pygments_lexer": "ipython3",
   "version": "3.9.13"
  }
 },
 "nbformat": 4,
 "nbformat_minor": 5
}
